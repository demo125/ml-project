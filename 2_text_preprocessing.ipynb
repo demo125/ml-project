{
  "cells": [
    {
      "metadata": {
        "_uuid": "8f2839f25d086af736a60e9eeb907d3b93b6e0e5",
        "_cell_guid": "b1076dfc-b9ad-4769-8c92-a6c4dae69d19",
        "trusted": true
      },
      "cell_type": "code",
      "source": "import numpy as np\nimport pandas as pd\nimport operator",
      "execution_count": 10,
      "outputs": []
    },
    {
      "metadata": {
        "_uuid": "7211fadb79213f17f3eda9001edfa67b135767f9"
      },
      "cell_type": "markdown",
      "source": "Načitanie trénovacej vzorky:"
    },
    {
      "metadata": {
        "_cell_guid": "79c7e3d0-c299-4dcb-8224-4455121ee9b0",
        "_uuid": "d629ff2d2480ee46fbb7e2d37f6b5fab8052498a",
        "trusted": true
      },
      "cell_type": "code",
      "source": "train_data = pd.read_csv('../input/train_data.csv')\nX = train_data['job_description']\ny = train_data['category']",
      "execution_count": 11,
      "outputs": []
    },
    {
      "metadata": {
        "_uuid": "b543fc71d0cede2e4ae971d0d34cf6f07b8fc1f7"
      },
      "cell_type": "markdown",
      "source": "Prvou funkciou na jednoduché spracovanie textu. Pomocou funkcie simple_preprocess sa text konvertuje do lowercase, odstránia príliš kratké a nie-abecedné slová. Odstránia sa tzv. stop words a slová sa pomocou stemmeru konvertuju na ich koreň."
    },
    {
      "metadata": {
        "trusted": true,
        "_uuid": "bd6553e0fc6080502a751415a97157cbba16d503"
      },
      "cell_type": "code",
      "source": "from nltk.corpus import stopwords\nfrom nltk.stem import SnowballStemmer\nfrom gensim.utils import simple_preprocess\n\nstemmer = SnowballStemmer('english')\nen_stopwords = stopwords.words('english')\nstops = set(stopwords.words('english'))\n\ndef stem_preprocess(texts):\n    texts = simple_preprocess(texts, deacc=True, min_len=3)\n    texts = [word for word in texts if word not in stops]\n    texts = [stemmer.stem(word) for word in texts]\n    return \" \".join(texts)",
      "execution_count": 12,
      "outputs": []
    },
    {
      "metadata": {
        "trusted": true,
        "_uuid": "18ee93507bca314e05d6d2945e772b17352cabb6"
      },
      "cell_type": "code",
      "source": "X_stemmed = X.apply(lambda x: stem_preprocess(x))",
      "execution_count": 4,
      "outputs": []
    },
    {
      "metadata": {
        "_uuid": "cf047f57345ddd1ef04acb932cb8f0ecb482dd3a"
      },
      "cell_type": "markdown",
      "source": "Príklad toho ako vyzerá text po stemmatizácií:"
    },
    {
      "metadata": {
        "trusted": true,
        "_uuid": "1c86505b5bae6be47c27f2cbb973f356ac1d8b2e"
      },
      "cell_type": "code",
      "source": "X_stemmed[0]",
      "execution_count": 5,
      "outputs": [
        {
          "output_type": "execute_result",
          "execution_count": 5,
          "data": {
            "text/plain": "'appli ref ifa administr london nationwid wealth manag firm current recruit ifa administr join team london work alongsid high experienc team paraplann except advis role support day day administr busi includ board process client letter valuat chase outstand inform encourag progress toward diploma qualif full studi support provid ideal candid alreadi gain least yearsa experi wealth manag industri look progress challeng role pleas send ursula sloan financi divis'"
          },
          "metadata": {}
        }
      ]
    },
    {
      "metadata": {
        "_uuid": "df99b5d347dc77564a15b1900fbdcebd44319d2f"
      },
      "cell_type": "markdown",
      "source": "Druhým prístupom bolo nameisto stemmatizácií použiť lemmatizáciu. Vyskúšal som oba prístupy a lemmatizácia sa ukázala ako úspešnejšia:"
    },
    {
      "metadata": {
        "trusted": true,
        "_uuid": "c51c2faae8e072591d8d668380aefb37cac0d54d"
      },
      "cell_type": "code",
      "source": "from nltk.stem import WordNetLemmatizer\n\nwordnet_lemmatizer = WordNetLemmatizer()\n\ndef lematize_preprocess(texts):\n    texts = simple_preprocess(texts, deacc=True, min_len=3)\n    texts = [word for word in texts if word not in stops]\n    texts = [wordnet_lemmatizer.lemmatize(word) for word in texts]\n    return \" \".join(texts)",
      "execution_count": 6,
      "outputs": []
    },
    {
      "metadata": {
        "trusted": true,
        "_uuid": "7958d8396204025e6a2ea96065db8d0dc4e06143"
      },
      "cell_type": "code",
      "source": "X_lemmatized = np.array(X.apply(lambda x: lematize_preprocess(x)))",
      "execution_count": 7,
      "outputs": []
    },
    {
      "metadata": {
        "trusted": true,
        "_uuid": "0e8b298ddb28740564fa76ef47c59a3552f0d56f"
      },
      "cell_type": "code",
      "source": "train_data.head()",
      "execution_count": 13,
      "outputs": [
        {
          "output_type": "execute_result",
          "execution_count": 13,
          "data": {
            "text/plain": "   Unnamed: 0         ...                       state\n0        8117         ...          South East England\n1       46176         ...          South East England\n2       48426         ...                  Shropshire\n3       40952         ...                       Devon\n4       18707         ...                        Kent\n\n[5 rows x 13 columns]",
            "text/html": "<div>\n<style scoped>\n    .dataframe tbody tr th:only-of-type {\n        vertical-align: middle;\n    }\n\n    .dataframe tbody tr th {\n        vertical-align: top;\n    }\n\n    .dataframe thead th {\n        text-align: right;\n    }\n</style>\n<table border=\"1\" class=\"dataframe\">\n  <thead>\n    <tr style=\"text-align: right;\">\n      <th></th>\n      <th>Unnamed: 0</th>\n      <th>category</th>\n      <th>city</th>\n      <th>company_name</th>\n      <th>geo</th>\n      <th>job_board</th>\n      <th>job_description</th>\n      <th>job_requirements</th>\n      <th>job_title</th>\n      <th>job_type</th>\n      <th>post_date</th>\n      <th>salary_offered</th>\n      <th>state</th>\n    </tr>\n  </thead>\n  <tbody>\n    <tr>\n      <th>0</th>\n      <td>8117</td>\n      <td>finance jobs</td>\n      <td>London</td>\n      <td>Accountancy Divisions Limited</td>\n      <td>uk</td>\n      <td>reed</td>\n      <td>Apply now REF: US/7104 IFA Administrator Lond...</td>\n      <td>NaN</td>\n      <td>IFA Administrator</td>\n      <td>Permanent, full-time</td>\n      <td>2/28/2018</td>\n      <td>£27,000 - £32,000 per annum</td>\n      <td>South East England</td>\n    </tr>\n    <tr>\n      <th>1</th>\n      <td>46176</td>\n      <td>leisure tourism jobs</td>\n      <td>London</td>\n      <td>Halmer Recruit</td>\n      <td>uk</td>\n      <td>reed</td>\n      <td>Apply now Job Title: Travel Consultant Locati...</td>\n      <td>Required skills Europe Sales Caribbean Far Ea...</td>\n      <td>Leisure Travel Consultant</td>\n      <td>Permanent, full-time</td>\n      <td>2/28/2018</td>\n      <td>£45,000 per annum</td>\n      <td>South East England</td>\n    </tr>\n    <tr>\n      <th>2</th>\n      <td>48426</td>\n      <td>fmcg jobs</td>\n      <td>Telford</td>\n      <td>Proactive Personnel</td>\n      <td>uk</td>\n      <td>reed</td>\n      <td>Apply now An exciting opportunity for a forwa...</td>\n      <td>NaN</td>\n      <td>Control Systems Engineer</td>\n      <td>Permanent, full-time</td>\n      <td>3/2/2018</td>\n      <td>£35,000 - £45,000 per annum</td>\n      <td>Shropshire</td>\n    </tr>\n    <tr>\n      <th>3</th>\n      <td>40952</td>\n      <td>accountancy jobs</td>\n      <td>Ivybridge</td>\n      <td>Hays Specialist Recruitment Limited</td>\n      <td>uk</td>\n      <td>reed</td>\n      <td>Apply now Accounts Assistant / Plymouth Hays ...</td>\n      <td>NaN</td>\n      <td>Accounts Assistant</td>\n      <td>Permanent, full-time</td>\n      <td>2/27/2018</td>\n      <td>£16,000 - £20,000 per annum</td>\n      <td>Devon</td>\n    </tr>\n    <tr>\n      <th>4</th>\n      <td>18707</td>\n      <td>education jobs</td>\n      <td>Maidstone</td>\n      <td>KM Education Recruitment Ltd</td>\n      <td>uk</td>\n      <td>reed</td>\n      <td>Apply now KM Recruitment is a specialist UK w...</td>\n      <td>NaN</td>\n      <td>Health and Social Care Assessor</td>\n      <td>Permanent, full-time</td>\n      <td>2/13/2018</td>\n      <td>£22,500 - £26,000 per annum</td>\n      <td>Kent</td>\n    </tr>\n  </tbody>\n</table>\n</div>"
          },
          "metadata": {}
        }
      ]
    },
    {
      "metadata": {
        "_uuid": "59a4b733dd91613ae3ebbe7d8af8bd2f9115eefa"
      },
      "cell_type": "markdown",
      "source": "Príklad toho ako vyzerá text po lemmatizácií:"
    },
    {
      "metadata": {
        "trusted": true,
        "_uuid": "3ef64c56630abf88ba6ec693cd1ded3c13e21d74"
      },
      "cell_type": "code",
      "source": "X_lemmatized[0]",
      "execution_count": 14,
      "outputs": [
        {
          "output_type": "execute_result",
          "execution_count": 14,
          "data": {
            "text/plain": "'apply ref ifa administrator london nationwide wealth management firm currently recruiting ifa administrator join team london working alongside highly experienced team paraplanners exceptional adviser role supporting day day administration business including boarding process client letter valuation chasing outstanding information encouraged progress towards diploma qualification full study support provided ideal candidate already gained least yearsa experience wealth management industry looking progressive challenging role please send ursula sloan financial division'"
          },
          "metadata": {}
        }
      ]
    },
    {
      "metadata": {
        "trusted": true,
        "_uuid": "822e42e1de62964703ce5112ead76234c4c6c69b"
      },
      "cell_type": "code",
      "source": "def numOfUniqueWords(X):\n    unique_words = set()\n    for row in X:\n        for word in row.split():\n            unique_words.add(word)\n    return len(unique_words)",
      "execution_count": 15,
      "outputs": []
    },
    {
      "metadata": {
        "_uuid": "9c88d43b5f891042509fb342d18238f9ff4d483e"
      },
      "cell_type": "markdown",
      "source": "Pre zaujímavosť je dobré si porovnať ako oba prístupy redukujú celkový počet slov v trénovacej vzorke. "
    },
    {
      "metadata": {
        "trusted": true,
        "_uuid": "377bf1429ae134e680525c6da4dbfb2ae36ec5a2"
      },
      "cell_type": "code",
      "source": "print('raw:', numOfUniqueWords(X))\nprint('stemmed:', numOfUniqueWords(X_stemmed))\nprint('lemmatized: ', numOfUniqueWords(X_lemmatized))",
      "execution_count": 16,
      "outputs": [
        {
          "output_type": "stream",
          "text": "raw: 330578\nstemmed: 79764\nlemmatized:  89786\n",
          "name": "stdout"
        }
      ]
    },
    {
      "metadata": {
        "_uuid": "a63e419154d1795612c3d387e58c944b18f276d6"
      },
      "cell_type": "markdown",
      "source": "Tiež je zaujímavé vidieť, ktoré slová sa vyskytujú najčastejšie v pôvodnom texte, stemmatizovanom a lemmatizovanom."
    },
    {
      "metadata": {
        "trusted": true,
        "_uuid": "e80b60224469181ac07c6494bc4a9fa49c13e520"
      },
      "cell_type": "code",
      "source": "import operator \ndef printNMostCommonWords(X, n):\n    word_dict = dict()\n    for job in X:\n        for word in job.split(' '):\n            if word not in word_dict:\n                word_dict[word] = 0\n            else:\n                word_dict[word] += 1\n\n    sorted_word_dict = sorted(word_dict.items(), key=operator.itemgetter(1), reverse=True)\n    return sorted_word_dict[:n]",
      "execution_count": 17,
      "outputs": []
    },
    {
      "metadata": {
        "trusted": true,
        "_uuid": "58e33d344b99a97277b123f5131ba0256bfafd37"
      },
      "cell_type": "code",
      "source": "print('raw: \\n',printNMostCommonWords(X, 20))\nprint('stemmed: \\n',printNMostCommonWords(X_stemmed, 20))\nprint('lemmatized: \\n',printNMostCommonWords(X_lemmatized, 20))",
      "execution_count": 18,
      "outputs": [
        {
          "output_type": "stream",
          "text": "raw: \n [('and', 544972), ('to', 394605), ('the', 347262), ('a', 277754), ('of', 269983), ('in', 189315), ('for', 162322), ('with', 148524), ('will', 114305), ('you', 106661), ('is', 106537), ('be', 106523), ('are', 90380), ('on', 81760), ('', 79999), ('an', 77304), ('as', 70579), ('your', 60295), ('-', 59124), ('have', 58341)]\nstemmed: \n [('work', 110944), ('manag', 84010), ('recruit', 66094), ('experi', 65941), ('team', 64238), ('role', 63797), ('appli', 63586), ('busi', 56100), ('client', 53038), ('servic', 51701), ('custom', 44777), ('develop', 43917), ('opportun', 41731), ('support', 41641), ('skill', 41016), ('within', 40704), ('requir', 40011), ('look', 37354), ('compani', 35640), ('includ', 34458)]\nlemmatized: \n [('experience', 65841), ('team', 64215), ('role', 63796), ('work', 60666), ('apply', 60047), ('client', 53035), ('recruitment', 52402), ('business', 51837), ('service', 50601), ('working', 48010), ('customer', 44519), ('opportunity', 41723), ('within', 40704), ('skill', 38569), ('company', 35640), ('looking', 33352), ('support', 32454), ('management', 32253), ('manager', 30454), ('sale', 30032)]\n",
          "name": "stdout"
        }
      ]
    },
    {
      "metadata": {
        "_uuid": "75d26808eccbb9b9406b9c50471e02bad30072d5"
      },
      "cell_type": "markdown",
      "source": "Je tiež nutné konvertovať kategórie do čísel. Pomocou LabelEncoder sa každej kategórií priradí id čislo."
    },
    {
      "metadata": {
        "trusted": true,
        "_uuid": "82b6288046523a28349a1e4f28f657d847a61310"
      },
      "cell_type": "code",
      "source": "from sklearn.preprocessing import LabelEncoder\n\nlabel_encoder = LabelEncoder()\ny_labels = label_encoder.fit_transform(y)\nprint(label_encoder.classes_)\nprint(set(y_labels))",
      "execution_count": 19,
      "outputs": [
        {
          "output_type": "stream",
          "text": "['accountancy jobs' 'accountancy qualified jobs'\n 'admin secretarial pa jobs' 'apprenticeships jobs' 'banking jobs'\n 'catering jobs' 'charity jobs' 'construction property jobs'\n 'customer service jobs' 'education jobs' 'energy jobs' 'engineering jobs'\n 'estate agent jobs' 'factory jobs' 'finance jobs' 'fmcg jobs'\n 'general insurance jobs' 'graduate training internships jobs'\n 'health jobs' 'hr jobs' 'it jobs' 'law jobs' 'leisure tourism jobs'\n 'logistics jobs' 'marketing jobs' 'media digital creative jobs'\n 'motoring automotive jobs' 'other jobs' 'purchasing jobs'\n 'recruitment consultancy jobs' 'retail jobs' 'sales jobs' 'science jobs'\n 'security safety jobs' 'social care jobs' 'strategy consultancy jobs'\n 'training jobs']\n{0, 1, 2, 3, 4, 5, 6, 7, 8, 9, 10, 11, 12, 13, 14, 15, 16, 17, 18, 19, 20, 21, 22, 23, 24, 25, 26, 27, 28, 29, 30, 31, 32, 33, 34, 35, 36}\n",
          "name": "stdout"
        }
      ]
    },
    {
      "metadata": {
        "_uuid": "f000707b11e55f25eca33edfb66b057403fc5775"
      },
      "cell_type": "markdown",
      "source": "Teraz je na mieste trénvaciu vzorku rozdeliť ešte na validačnú, na ktorej sa budú vyhodnocovať modely."
    },
    {
      "metadata": {
        "trusted": true,
        "_uuid": "4e7533a67ee223f6556bf380872e775f089c2b44"
      },
      "cell_type": "code",
      "source": "from sklearn.model_selection import train_test_split\nX_train, X_val, y_train, y_val = train_test_split(X_lemmatized, y_labels, test_size=0.2)",
      "execution_count": 20,
      "outputs": []
    },
    {
      "metadata": {
        "_uuid": "a67ef1052092d061d35e4c208ec0d94597904d7b"
      },
      "cell_type": "markdown",
      "source": "Na konvertovanie textu(popisov práce) do vektorovej podoby som použil dva Bag of words prístupy. Count vektorizer a TfidfVectorizer, ktorý sa ukázal ako úspešnejší, preto budem pracovať len s ním."
    },
    {
      "metadata": {
        "trusted": true,
        "_uuid": "18d7465859bc19af921eabcd49c6a6733d16ef8e"
      },
      "cell_type": "code",
      "source": "from sklearn.feature_extraction.text import TfidfVectorizer, CountVectorizer\n\nvectorizer = TfidfVectorizer(ngram_range=(1,1))\nX_train_vect = vectorizer.fit_transform(X_train)\nX_val_vect  = vectorizer.transform(X_val)",
      "execution_count": 21,
      "outputs": []
    },
    {
      "metadata": {
        "_uuid": "1b44e08a29e9ca47808ad59825a47e20b966a9da"
      },
      "cell_type": "markdown",
      "source": "Pomocou SelectKBest som vybral len tie najdôležitejšie slová(ich tokeny), čím sa zníži dimenzionalita vstupu. Skúšaním som dospel k tomu, že z celkového počtu tokenov(cca 80000) stačí vybrať len 40000 a chybu na validčnej vzorke to neovplyvní."
    },
    {
      "metadata": {
        "trusted": true,
        "_uuid": "232a35cce6d73d40c556f6fa047c48961d85d0e8"
      },
      "cell_type": "code",
      "source": "from sklearn.feature_selection import SelectKBest, chi2\n\nchi2_model = SelectKBest(chi2, k=40000);\nchi2_train_vect = chi2_model.fit_transform(X_train_vect, y_train)\nchi2_val_vect = chi2_model.transform(X_val_vect)\nprint(X_train_vect.shape, chi2_train_vect.shape,X_val_vect.shape, chi2_val_vect.shape)",
      "execution_count": 22,
      "outputs": [
        {
          "output_type": "stream",
          "text": "(32000, 79700) (32000, 40000) (8000, 79700) (8000, 40000)\n",
          "name": "stdout"
        }
      ]
    },
    {
      "metadata": {
        "_uuid": "7e0b9455e20dedbad3f372d5deeea8c7241d8bb9"
      },
      "cell_type": "markdown",
      "source": "Vstup pre neuronovú sieť je potrebné upraviť iným sposobom. Ako prvé je potrebné zmeniť zakódovanie target values na formát one-hot-encoding pomocou funkcie to_categorical."
    },
    {
      "metadata": {
        "trusted": true,
        "_uuid": "7d63c15f562fcc493032f0e9912f7df3d94f3ab1"
      },
      "cell_type": "code",
      "source": "from keras.utils.np_utils import to_categorical\n\ny_train_cat = to_categorical(np.asarray(y_train))\ny_test_cat = to_categorical(np.asarray(y_val))",
      "execution_count": 23,
      "outputs": [
        {
          "output_type": "stream",
          "text": "Using TensorFlow backend.\n",
          "name": "stderr"
        }
      ]
    },
    {
      "metadata": {
        "_uuid": "bdcdb0dce5226021812e5bb44608258955a8649c"
      },
      "cell_type": "markdown",
      "source": "Na zakódovanie textu pre neurónvoú sieť som použil Tokenizer z frameworku keras. Ten tiež zoberie 40000 slov, ktoré prevedie to vektorovej podoby. Najprv sa tokenizer ''natrénuje'' na celom texte v  trénovacej vzorke, potom každý popis práce z trénovacej vzorky a validačnej vzorky konvertuje na na vektor nerovnajek dĺžky. "
    },
    {
      "metadata": {
        "trusted": true,
        "_uuid": "d33950bc17107d5e7ccfe17e01c657d163cd198a"
      },
      "cell_type": "code",
      "source": "from keras.preprocessing.text import Tokenizer\n\nMAX_NB_WORDS = 40000\n\n# finally, vectorize the text samples into a 2D integer tensor\ntokenizer = Tokenizer(num_words=MAX_NB_WORDS, char_level=False)\ntokenizer.fit_on_texts(X_train)\n\nsequences_train = tokenizer.texts_to_sequences(X_train)\nsequences_val = tokenizer.texts_to_sequences(X_val)",
      "execution_count": 24,
      "outputs": []
    },
    {
      "metadata": {
        "_uuid": "eb58eb631e5bfff74b13dd150c7370be6af9f8f2"
      },
      "cell_type": "markdown",
      "source": "Tu je užitočne si vyzualizovať dĺžky popisov práce po lemmatizácií a po prevedení to vektorovej podoby."
    },
    {
      "metadata": {
        "trusted": true,
        "_uuid": "031ce07014c6d0b0afca6cd510fbee209d4eebaa"
      },
      "cell_type": "code",
      "source": "import matplotlib.pyplot as plt\n\nseq_lens = [len(row) for row in sequences_train]\nprint('min:', min(seq_lens),', max:', max(seq_lens),', avg:', np.mean(seq_lens))\nplt.figure(figsize=(15,5))\nplt.ylabel(\"Počet ponúk\")\nplt.xlabel(\"Počet slov v popise práce\")\n\n_ = plt.hist(seq_lens, bins=100)",
      "execution_count": 25,
      "outputs": [
        {
          "output_type": "stream",
          "text": "min: 14 , max: 626 , avg: 174.97653125\n",
          "name": "stdout"
        },
        {
          "output_type": "display_data",
          "data": {
            "text/plain": "<Figure size 1080x360 with 1 Axes>",
            "image/png": "[encoded data removed]"
          },
          "metadata": {}
        }
      ]
    },
    {
      "metadata": {
        "_uuid": "a72618f6a11c4fff4b27e20345bf7607e494fe6b"
      },
      "cell_type": "markdown",
      "source": "Z grafu vyššie vidno, že väčšina popisov práce je reprezentovaná vektorom veľkosti do 500(tokenov - slov). Preto pomocou funkcie pad_sequences sa orežú všetky vektory väčšie ako 500. Tie kratšie sa doplnia nulami."
    },
    {
      "metadata": {
        "trusted": true,
        "_uuid": "6d047c4d4894e11274bfd6b4fd8d06ac78ff3246"
      },
      "cell_type": "code",
      "source": "from keras.preprocessing.sequence import pad_sequences\n\nMAX_SEQUENCE_LENGTH = 500\n\nx_train_pad = pad_sequences(sequences_train, maxlen=MAX_SEQUENCE_LENGTH)\nx_val_pad = pad_sequences(sequences_val, maxlen=MAX_SEQUENCE_LENGTH)\nprint(x_train_pad.shape, x_val_pad.shape)\n",
      "execution_count": 26,
      "outputs": [
        {
          "output_type": "stream",
          "text": "(32000, 500) (8000, 500)\n",
          "name": "stdout"
        }
      ]
    }
  ],
  "metadata": {
    "kernelspec": {
      "display_name": "Python 3",
      "language": "python",
      "name": "python3"
    },
    "language_info": {
      "name": "python",
      "version": "3.6.6",
      "mimetype": "text/x-python",
      "codemirror_mode": {
        "name": "ipython",
        "version": 3
      },
      "pygments_lexer": "ipython3",
      "nbconvert_exporter": "python",
      "file_extension": ".py"
    }
  },
  "nbformat": 4,
  "nbformat_minor": 1
}